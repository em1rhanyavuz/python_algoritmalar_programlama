{
  "nbformat": 4,
  "nbformat_minor": 0,
  "metadata": {
    "colab": {
      "provenance": []
    },
    "kernelspec": {
      "name": "python3",
      "display_name": "Python 3"
    },
    "language_info": {
      "name": "python"
    }
  },
  "cells": [
    {
      "cell_type": "code",
      "source": [
        "mil = float(input(\"KM'ye çevirilecek Mil bilgisini girin\"))\n",
        "kilometre = mil * 1.60934\n",
        "print(kilometre)\n"
      ],
      "metadata": {
        "colab": {
          "base_uri": "https://localhost:8080/"
        },
        "id": "AJ9nZ0OOaoK1",
        "outputId": "1db6b7e0-5431-4e07-8c4f-36275488a09d"
      },
      "execution_count": 1,
      "outputs": [
        {
          "output_type": "stream",
          "name": "stdout",
          "text": [
            "KM'ye çevirilecek Mil bilgisini girin565\n",
            "909.2771\n"
          ]
        }
      ]
    },
    {
      "cell_type": "code",
      "source": [
        "a = 10\n",
        "if a > 10: # True - False\n",
        "  a = a+1\n",
        "print(a)"
      ],
      "metadata": {
        "colab": {
          "base_uri": "https://localhost:8080/"
        },
        "id": "RlcQmZ6rbt_F",
        "outputId": "90b52c8d-dbac-4002-b468-41b26f481331"
      },
      "execution_count": 2,
      "outputs": [
        {
          "output_type": "stream",
          "name": "stdout",
          "text": [
            "10\n"
          ]
        }
      ]
    },
    {
      "cell_type": "code",
      "source": [
        "for degisken in range(1, 11):\n",
        "  print(degisken)\n",
        ""
      ],
      "metadata": {
        "colab": {
          "base_uri": "https://localhost:8080/"
        },
        "id": "ZbO7hEZQbyDN",
        "outputId": "ee48366c-d01b-4075-ee99-57e7a2434834"
      },
      "execution_count": 3,
      "outputs": [
        {
          "output_type": "stream",
          "name": "stdout",
          "text": [
            "1\n",
            "2\n",
            "3\n",
            "4\n",
            "5\n",
            "6\n",
            "7\n",
            "8\n",
            "9\n",
            "10\n"
          ]
        }
      ]
    },
    {
      "cell_type": "code",
      "source": [
        "sayi = int(input(\"4 Basamaklı sayı bilgisi giriniz\"))\n",
        "\n",
        "binler = sayi // 1000\n",
        "yuzler = (sayi // 100) % 10\n",
        "onlar = (sayi // 10) % 10\n",
        "birler = sayi % 10\n",
        "\n",
        "print(\"Sayının Rakamlar: \", binler, yuzler, onlar, birler)\n",
        "\n",
        "yeni_sayi = yuzler * 1000 + binler * 100 + onlar * 10 + birler\n",
        "\n",
        "print(\"Yeni Sayı: \", yeni_sayi)\n",
        "\n",
        "print(\"Girilen Sayı: \", sayi)"
      ],
      "metadata": {
        "colab": {
          "base_uri": "https://localhost:8080/"
        },
        "id": "bkanpt2yi7XJ",
        "outputId": "3a75183d-2678-4d4e-8a5c-211652d50762"
      },
      "execution_count": 5,
      "outputs": [
        {
          "output_type": "stream",
          "name": "stdout",
          "text": [
            "4 Basamaklı sayı bilgisi giriniz8324\n",
            "Sayının Rakamlar:  8 3 2 4\n",
            "Yeni Sayı:  3824\n",
            "Girilen Sayı:  8324\n"
          ]
        }
      ]
    },
    {
      "cell_type": "markdown",
      "source": [
        "(.upper) ataması kullanıldığında yazılan her kelimeyi büyük yapar\n",
        "(.lower) ataması kullanıldığında yazılan her kelimeyi küçük yapar"
      ],
      "metadata": {
        "id": "vZ9qNAJAjg4g"
      }
    },
    {
      "cell_type": "code",
      "source": [
        "metin = \"Python\"\n",
        "\n",
        "print(\"Metnin uzunluğu \", len(metin))\n",
        "\n",
        "print(\"Büyük harf dönüşümü \", metin.upper())\n",
        "\n",
        "print(\"Küçük harf dönüşümü \", metin.lower())"
      ],
      "metadata": {
        "colab": {
          "base_uri": "https://localhost:8080/"
        },
        "id": "VNfNZEhxjzHg",
        "outputId": "f92cbb9e-66e1-4203-b7f9-02c98a357891"
      },
      "execution_count": 7,
      "outputs": [
        {
          "output_type": "stream",
          "name": "stdout",
          "text": [
            "Metnin uzunluğu  6\n",
            "Büyük harf dönüşümü  PYTHON\n",
            "Küçük harf dönüşümü  python\n"
          ]
        }
      ]
    },
    {
      "cell_type": "code",
      "source": [
        "a = 4\n",
        "b = 1\n",
        "\n",
        "if a > b:\n",
        "  print(a)\n",
        "else:\n",
        "  print(b)"
      ],
      "metadata": {
        "colab": {
          "base_uri": "https://localhost:8080/"
        },
        "id": "Z4u0Wgg5kFtY",
        "outputId": "29299103-eae0-4b6f-e8c1-55f04450b0f1"
      },
      "execution_count": 12,
      "outputs": [
        {
          "output_type": "stream",
          "name": "stdout",
          "text": [
            "4\n"
          ]
        }
      ]
    },
    {
      "cell_type": "code",
      "source": [
        "a = 5\n",
        "b = 4\n",
        "c = 0\n",
        "\n",
        "if a>0 and b>0:\n",
        "  c = a + b\n",
        "  c = a * a + c\n",
        "print(c)\n",
        ""
      ],
      "metadata": {
        "colab": {
          "base_uri": "https://localhost:8080/"
        },
        "id": "osNJbq2kkgQw",
        "outputId": "bab74565-c25d-4106-ac65-da6f7b4b6322"
      },
      "execution_count": 13,
      "outputs": [
        {
          "output_type": "stream",
          "name": "stdout",
          "text": [
            "34\n"
          ]
        }
      ]
    },
    {
      "cell_type": "code",
      "source": [
        "a = 5\n",
        "b = 4\n",
        "c = 4\n",
        "\n",
        "if a>0 and b<0:\n",
        "  c = a * b + b\n",
        "print(c)"
      ],
      "metadata": {
        "colab": {
          "base_uri": "https://localhost:8080/"
        },
        "id": "JKwbynVfkwqA",
        "outputId": "d5339d80-664a-4ba3-bb74-abce3c2e0a49"
      },
      "execution_count": 14,
      "outputs": [
        {
          "output_type": "stream",
          "name": "stdout",
          "text": [
            "4\n"
          ]
        }
      ]
    },
    {
      "cell_type": "code",
      "source": [
        "a = 4\n",
        "b = 1\n",
        "c = 9\n",
        "sonuc = 0\n",
        "\n",
        "if a>0:\n",
        "  sonuc += 1\n",
        "  sonuc = a * c - b\n",
        "  print(sonuc)\n",
        "else:\n",
        "  sonuc -= 1\n",
        "  sonuc = a/c + b\n",
        "  print(sonuc)\n",
        ""
      ],
      "metadata": {
        "colab": {
          "base_uri": "https://localhost:8080/"
        },
        "id": "Ps7RcVTuldXx",
        "outputId": "69cc5f7e-f57b-4a2c-faba-64626e24261e"
      },
      "execution_count": 15,
      "outputs": [
        {
          "output_type": "stream",
          "name": "stdout",
          "text": [
            "35\n"
          ]
        }
      ]
    },
    {
      "cell_type": "markdown",
      "source": [
        "#birinci atamada bulunan (sonuc +=1) kapalı atama halidir. açık konumlandırılmış ataması (sonuç=sonuç+1) olarak konumlandırılır."
      ],
      "metadata": {
        "id": "T1say4pblokv"
      }
    },
    {
      "cell_type": "code",
      "source": [
        "degisken = 0\n",
        "sonuc = 0\n",
        "\n",
        "if degisken == 1:\n",
        "  sonuc += 1\n",
        "  print(sonuc)\n",
        "elif degisken == 2:\n",
        "  sonuc += 2\n",
        "  print(sonuc)\n",
        "elif degisken == 3:\n",
        "  sonuc += 3\n",
        "  print(sonuc)\n",
        "else:\n",
        "  sonuc = 0\n",
        "  print(sonuc)"
      ],
      "metadata": {
        "colab": {
          "base_uri": "https://localhost:8080/"
        },
        "id": "4JY8nmzhl-8J",
        "outputId": "ed159265-dca6-493b-cd4e-0bcafb0b26e3"
      },
      "execution_count": 16,
      "outputs": [
        {
          "output_type": "stream",
          "name": "stdout",
          "text": [
            "0\n"
          ]
        }
      ]
    },
    {
      "cell_type": "markdown",
      "source": [
        "#c dilinde \"else ve if\" in kısaltması olarak \"elif\" kullanılır (genel dildir.)"
      ],
      "metadata": {
        "id": "BezL_ybwmNVh"
      }
    },
    {
      "cell_type": "code",
      "source": [
        "for i in [1, 2, 3, 4, 5, 6, 7, 8, 9, 10]:\n",
        "  print(i)\n"
      ],
      "metadata": {
        "colab": {
          "base_uri": "https://localhost:8080/"
        },
        "id": "V25I5EzUmZIh",
        "outputId": "a2ffbae6-1929-434a-92f2-9f4e21dde721"
      },
      "execution_count": 17,
      "outputs": [
        {
          "output_type": "stream",
          "name": "stdout",
          "text": [
            "1\n",
            "2\n",
            "3\n",
            "4\n",
            "5\n",
            "6\n",
            "7\n",
            "8\n",
            "9\n",
            "10\n"
          ]
        }
      ]
    },
    {
      "cell_type": "markdown",
      "source": [
        "#fonksiyon içerisine alınacak fonbksiyon tanımlar, yukarıda yazılan kod üzerindeki (\"i\" hali konumu örnektir.\n"
      ],
      "metadata": {
        "id": "b3CWFbfBmfFx"
      }
    },
    {
      "cell_type": "code",
      "source": [
        "for i in range(1, 11):\n",
        "  print(i)"
      ],
      "metadata": {
        "colab": {
          "base_uri": "https://localhost:8080/"
        },
        "id": "WJAyqKb6nFuB",
        "outputId": "965869e5-28e4-4d4f-c669-ea8466e088a9"
      },
      "execution_count": 19,
      "outputs": [
        {
          "output_type": "stream",
          "name": "stdout",
          "text": [
            "1\n",
            "2\n",
            "3\n",
            "4\n",
            "5\n",
            "6\n",
            "7\n",
            "8\n",
            "9\n",
            "10\n"
          ]
        }
      ]
    },
    {
      "cell_type": "markdown",
      "source": [
        "#yukarıdaki range fonksiyonu = 1 den başlayarak 10 a kadar işlem olan fonbksiyon olarak tanımlanır"
      ],
      "metadata": {
        "id": "9fJnG_Hdm69R"
      }
    },
    {
      "cell_type": "code",
      "source": [
        "for i in range(1, 11, 3):\n",
        "  print(i)"
      ],
      "metadata": {
        "colab": {
          "base_uri": "https://localhost:8080/"
        },
        "id": "3W4RAh0gmt2w",
        "outputId": "e8f6e40a-8af8-46f3-c5e8-0e76b94ce472"
      },
      "execution_count": 18,
      "outputs": [
        {
          "output_type": "stream",
          "name": "stdout",
          "text": [
            "1\n",
            "4\n",
            "7\n",
            "10\n"
          ]
        }
      ]
    },
    {
      "cell_type": "markdown",
      "source": [
        "#yukarıdaki lk iki hane aralığı üçüncü hane basamak aralığı atamasını sağlar"
      ],
      "metadata": {
        "id": "RiavVJ9-naN6"
      }
    },
    {
      "cell_type": "code",
      "source": [
        "for i in range(3, 11, 3):\n",
        "  print(i)"
      ],
      "metadata": {
        "colab": {
          "base_uri": "https://localhost:8080/"
        },
        "id": "M8ZSVHqNnmoy",
        "outputId": "98cf864d-42cd-48c5-f0e6-e86c4466a135"
      },
      "execution_count": 23,
      "outputs": [
        {
          "output_type": "stream",
          "name": "stdout",
          "text": [
            "3\n",
            "6\n",
            "9\n"
          ]
        }
      ]
    },
    {
      "cell_type": "markdown",
      "source": [
        "# yukarıda bulunana \"continue\" keliemsi tekrarsız ve atlar ataması olarak tanımlanır"
      ],
      "metadata": {
        "id": "hf49vzSun9DR"
      }
    },
    {
      "cell_type": "code",
      "source": [
        "for sayi in range(1, 11):\n",
        "  if sayi == 3:\n",
        "    continue\n",
        "  if sayi == 7:\n",
        "    break\n",
        "  print(sayi)\n",
        ""
      ],
      "metadata": {
        "colab": {
          "base_uri": "https://localhost:8080/"
        },
        "id": "KHnC9fmynxzi",
        "outputId": "7edb5ba2-b2c9-4f64-9430-47f5733a074f"
      },
      "execution_count": 24,
      "outputs": [
        {
          "output_type": "stream",
          "name": "stdout",
          "text": [
            "1\n",
            "2\n",
            "4\n",
            "5\n",
            "6\n"
          ]
        }
      ]
    },
    {
      "cell_type": "code",
      "source": [
        "\n",
        "sayi = 0\n",
        "toplam = 0\n",
        "\n",
        "while sayi < 99:\n",
        "  print(sayi)\n",
        "  toplam += sayi # toplam = toplam + sayi\n",
        "  sayi += 1  # sayi = sayi + 1\n",
        "print(\"Sayilarin Toplami: \", toplam)\n",
        ""
      ],
      "metadata": {
        "colab": {
          "base_uri": "https://localhost:8080/"
        },
        "id": "ECq7VAxYocYC",
        "outputId": "ebe4fcbe-c4a7-45d5-c429-2d363997f61e"
      },
      "execution_count": 26,
      "outputs": [
        {
          "output_type": "stream",
          "name": "stdout",
          "text": [
            "0\n",
            "1\n",
            "2\n",
            "3\n",
            "4\n",
            "5\n",
            "6\n",
            "7\n",
            "8\n",
            "9\n",
            "10\n",
            "11\n",
            "12\n",
            "13\n",
            "14\n",
            "15\n",
            "16\n",
            "17\n",
            "18\n",
            "19\n",
            "20\n",
            "21\n",
            "22\n",
            "23\n",
            "24\n",
            "25\n",
            "26\n",
            "27\n",
            "28\n",
            "29\n",
            "30\n",
            "31\n",
            "32\n",
            "33\n",
            "34\n",
            "35\n",
            "36\n",
            "37\n",
            "38\n",
            "39\n",
            "40\n",
            "41\n",
            "42\n",
            "43\n",
            "44\n",
            "45\n",
            "46\n",
            "47\n",
            "48\n",
            "49\n",
            "50\n",
            "51\n",
            "52\n",
            "53\n",
            "54\n",
            "55\n",
            "56\n",
            "57\n",
            "58\n",
            "59\n",
            "60\n",
            "61\n",
            "62\n",
            "63\n",
            "64\n",
            "65\n",
            "66\n",
            "67\n",
            "68\n",
            "69\n",
            "70\n",
            "71\n",
            "72\n",
            "73\n",
            "74\n",
            "75\n",
            "76\n",
            "77\n",
            "78\n",
            "79\n",
            "80\n",
            "81\n",
            "82\n",
            "83\n",
            "84\n",
            "85\n",
            "86\n",
            "87\n",
            "88\n",
            "89\n",
            "90\n",
            "91\n",
            "92\n",
            "93\n",
            "94\n",
            "95\n",
            "96\n",
            "97\n",
            "98\n",
            "Sayilarin Toplami:  4851\n"
          ]
        }
      ]
    },
    {
      "cell_type": "markdown",
      "source": [
        "#yukarıda bulunan \"while\" ataması içerisinde gizli  bir \"if\" barındırmaktadır"
      ],
      "metadata": {
        "id": "8tNrJHTRoxj6"
      }
    },
    {
      "cell_type": "code",
      "source": [
        "for ch in range(ord('A'), ord('Z')+1):\n",
        "  print(\"Harf Listesi: \", chr(ch))"
      ],
      "metadata": {
        "colab": {
          "base_uri": "https://localhost:8080/"
        },
        "id": "vEuYHrsmo_Ma",
        "outputId": "99744316-860b-4c06-9bb7-e978c7d19145"
      },
      "execution_count": 27,
      "outputs": [
        {
          "output_type": "stream",
          "name": "stdout",
          "text": [
            "Harf Listesi:  A\n",
            "Harf Listesi:  B\n",
            "Harf Listesi:  C\n",
            "Harf Listesi:  D\n",
            "Harf Listesi:  E\n",
            "Harf Listesi:  F\n",
            "Harf Listesi:  G\n",
            "Harf Listesi:  H\n",
            "Harf Listesi:  I\n",
            "Harf Listesi:  J\n",
            "Harf Listesi:  K\n",
            "Harf Listesi:  L\n",
            "Harf Listesi:  M\n",
            "Harf Listesi:  N\n",
            "Harf Listesi:  O\n",
            "Harf Listesi:  P\n",
            "Harf Listesi:  Q\n",
            "Harf Listesi:  R\n",
            "Harf Listesi:  S\n",
            "Harf Listesi:  T\n",
            "Harf Listesi:  U\n",
            "Harf Listesi:  V\n",
            "Harf Listesi:  W\n",
            "Harf Listesi:  X\n",
            "Harf Listesi:  Y\n",
            "Harf Listesi:  Z\n"
          ]
        }
      ]
    },
    {
      "cell_type": "code",
      "source": [
        "while True:\n",
        "  sayi = float(input(\"Sayıyı Gir\"))\n",
        "  if sayi == 0:\n",
        "    print(\"0 Girdiniz, Başka bir rakam giriniz!!!\")\n",
        "    continue\n",
        "  elif sayi>0:\n",
        "    print(\"Sayı Pozitif\")\n",
        "  else:\n",
        "    print(\"Sayı Negatif\")\n",
        "  break"
      ],
      "metadata": {
        "colab": {
          "base_uri": "https://localhost:8080/"
        },
        "id": "Jj0wz5ZnpIwA",
        "outputId": "13722652-ec93-4fbb-fea5-51645cabcf2f"
      },
      "execution_count": 28,
      "outputs": [
        {
          "output_type": "stream",
          "name": "stdout",
          "text": [
            "Sayıyı Gir6\n",
            "Sayı Pozitif\n"
          ]
        }
      ]
    },
    {
      "cell_type": "code",
      "source": [
        "n = int(input(\"Sayı Gir\"))\n",
        "\n",
        "toplam = 0\n",
        "\n",
        "for sayac in range(1, n+1):\n",
        "  toplam += sayac\n",
        "\n",
        "print(\"Sonuc: \", toplam)5"
      ],
      "metadata": {
        "colab": {
          "base_uri": "https://localhost:8080/"
        },
        "id": "snexzLpVwS5L",
        "outputId": "5668e630-b36a-40d7-cbce-e8ff34c3b655"
      },
      "execution_count": 31,
      "outputs": [
        {
          "output_type": "stream",
          "name": "stdout",
          "text": [
            "Sayı Gir5\n",
            "Sonuc:  15\n"
          ]
        }
      ]
    },
    {
      "cell_type": "code",
      "source": [
        "x = 3\n",
        "c = 0\n",
        "\n",
        "while c<3:\n",
        "  print(\"Ekran Cıktısı: \", c, x)\n",
        "  x = x * x\n",
        "  c = c + 1\n",
        "\n",
        "print(\"Döngü Sonu: \", c, x)\n",
        ""
      ],
      "metadata": {
        "colab": {
          "base_uri": "https://localhost:8080/"
        },
        "id": "jDP7h_YwyJXi",
        "outputId": "f9559a54-2654-4c3a-fde4-387dc8bb2166"
      },
      "execution_count": 33,
      "outputs": [
        {
          "output_type": "stream",
          "name": "stdout",
          "text": [
            "Ekran Cıktısı:  0 3\n",
            "Ekran Cıktısı:  1 9\n",
            "Ekran Cıktısı:  2 81\n",
            "Döngü Sonu:  3 6561\n"
          ]
        }
      ]
    },
    {
      "cell_type": "code",
      "source": [
        "# 7.5. Python Programlama Dili Üzerinde Sıralı, Koşul & Döngü Örnekleri\n",
        "\n",
        "n = int(input(\"Sayi Gir\"))\n",
        "\n",
        "if n % 2 == 0:\n",
        "  print(\"Girilen Sayı: \", n, \" çifttir\")\n",
        "else:\n",
        "  print(\"Girilen Sayı: \", n, \" tektir\")"
      ],
      "metadata": {
        "colab": {
          "base_uri": "https://localhost:8080/"
        },
        "id": "HdOpw1cez5gU",
        "outputId": "4575dbf7-291f-4a1b-cb22-327732ae32b5"
      },
      "execution_count": 34,
      "outputs": [
        {
          "output_type": "stream",
          "name": "stdout",
          "text": [
            "Sayi Gir4\n",
            "Girilen Sayı:  4  çifttir\n"
          ]
        }
      ]
    },
    {
      "cell_type": "code",
      "source": [
        "n = float(input(\"Sayı Gir\"))\n",
        "\n",
        "if n < 0:\n",
        "  print(\"Girilen Sayı Negatif ve mutlak degeri\", n * (-1), \" 'dır.\")\n",
        "else:\n",
        "  print(\"Girilen Sayı \", n, \" pozitiftir\")\n",
        ""
      ],
      "metadata": {
        "colab": {
          "base_uri": "https://localhost:8080/"
        },
        "id": "6bwD4t930M9N",
        "outputId": "b73ff1f5-deed-49bb-bf17-6e7252f04932"
      },
      "execution_count": 35,
      "outputs": [
        {
          "output_type": "stream",
          "name": "stdout",
          "text": [
            "Sayı Gir6\n",
            "Girilen Sayı  6.0  pozitiftir\n"
          ]
        }
      ]
    },
    {
      "cell_type": "code",
      "source": [
        "x = int(input(\"İlk sayıyı gir\"))\n",
        "y = int(input(\"ikinci sayıyı gir\"))\n",
        "\n",
        "if x % y == 0:\n",
        "  print(\"X sayısı Y Sayısına Tam Bölünür\")\n",
        "else:\n",
        "  print(\"X sayısı Y Sayısına Tam Bölünmez\")"
      ],
      "metadata": {
        "colab": {
          "base_uri": "https://localhost:8080/"
        },
        "id": "16ppN9PN0djN",
        "outputId": "e57d9140-2703-49f9-c31f-e7af9eb4135b"
      },
      "execution_count": 40,
      "outputs": [
        {
          "output_type": "stream",
          "name": "stdout",
          "text": [
            "İlk sayıyı gir6\n",
            "ikinci sayıyı gir3\n",
            "X sayısı Y Sayısına Tam Bölünür\n"
          ]
        }
      ]
    },
    {
      "cell_type": "code",
      "source": [
        "yil = int(input(\"Yıl Gir\"))\n",
        "if yil % 4 == 0:\n",
        "  print(\"Girilen Yıl: \", yil, \" artık yıldır\")\n",
        "else:\n",
        "  print(\"Girilen Yıl: \", yil, \" artık yıl değildir\")"
      ],
      "metadata": {
        "colab": {
          "base_uri": "https://localhost:8080/"
        },
        "id": "J6nE-RuP0xAV",
        "outputId": "c4a350ff-be60-4d33-9012-ef863386f1fe"
      },
      "execution_count": 45,
      "outputs": [
        {
          "output_type": "stream",
          "name": "stdout",
          "text": [
            "Yıl Gir2024\n",
            "Girilen Yıl:  2024  artık yıldır\n"
          ]
        }
      ]
    },
    {
      "cell_type": "markdown",
      "source": [
        "#kodlama mülakat sorularındandır!!!!!!!!!!!"
      ],
      "metadata": {
        "id": "O56-Kzrx1k4e"
      }
    },
    {
      "cell_type": "code",
      "source": [
        "sayi = 1\n",
        "\n",
        "while sayi<=100:\n",
        "  karekok = int(sayi ** 0.5)\n",
        "  if karekok ** 2 == sayi:\n",
        "    print(sayi)\n",
        "  sayi += 1 # sayi = sayi + 1"
      ],
      "metadata": {
        "colab": {
          "base_uri": "https://localhost:8080/"
        },
        "id": "9jiXn8vP1C3m",
        "outputId": "3af8fae2-cc20-4ffd-c7d2-d7fa2d4edcca"
      },
      "execution_count": 46,
      "outputs": [
        {
          "output_type": "stream",
          "name": "stdout",
          "text": [
            "1\n",
            "4\n",
            "9\n",
            "16\n",
            "25\n",
            "36\n",
            "49\n",
            "64\n",
            "81\n",
            "100\n"
          ]
        }
      ]
    },
    {
      "cell_type": "code",
      "source": [
        "sayac = 4\n",
        "degisken = 0\n",
        "\n",
        "while sayac * sayac <= 100:\n",
        "  tam_kare = sayac * sayac\n",
        "  if 10 <= tam_kare <= 100:\n",
        "    print(tam_kare)\n",
        "    degisken += 1\n",
        "  sayac += 1\n",
        "\n",
        "print(\"Sayı Adedi: \", degisken)"
      ],
      "metadata": {
        "colab": {
          "base_uri": "https://localhost:8080/"
        },
        "id": "mryxT6eq1HMU",
        "outputId": "259a7bbf-7748-4ca4-ac46-d15c8eafd126"
      },
      "execution_count": 47,
      "outputs": [
        {
          "output_type": "stream",
          "name": "stdout",
          "text": [
            "16\n",
            "25\n",
            "36\n",
            "49\n",
            "64\n",
            "81\n",
            "100\n",
            "Sayı Adedi:  7\n"
          ]
        }
      ]
    },
    {
      "cell_type": "code",
      "source": [
        "\n",
        "degisken = 0\n",
        "\n",
        "for sayac in range(1, 11):\n",
        "  tam_kare = sayac * sayac\n",
        "  if 10 <= tam_kare <= 100:\n",
        "    print(tam_kare)\n",
        "    degisken += 1"
      ],
      "metadata": {
        "colab": {
          "base_uri": "https://localhost:8080/"
        },
        "id": "5xk8Gz581JTL",
        "outputId": "d07c9044-5f23-4d20-bf10-401c0657ca77"
      },
      "execution_count": 48,
      "outputs": [
        {
          "output_type": "stream",
          "name": "stdout",
          "text": [
            "16\n",
            "25\n",
            "36\n",
            "49\n",
            "64\n",
            "81\n",
            "100\n"
          ]
        }
      ]
    },
    {
      "cell_type": "code",
      "source": [
        "\n",
        "\n",
        "\n",
        "\n",
        "\n",
        "\n",
        "\n",
        "\n",
        "\n",
        "\n",
        "\n",
        "\n",
        "\n",
        "\n",
        "\n",
        "\n",
        "\n",
        "\n",
        "\n",
        "\n",
        "\n",
        "\n",
        "\n",
        "\n",
        "\n",
        "\n",
        "\n",
        "\n",
        "\n",
        "\n",
        "\n",
        "\n",
        "\n",
        "\n",
        "\n",
        "\n",
        "+-+\n",
        "*print(\"Programdan çıkmak için '0' girebilirsiniz.\")\n",
        "\n",
        "toplam = 0  # Girilen sayıların toplamı\n",
        "s = 0       # Girilen sayı adedi\n",
        "\n",
        "while True:\n",
        "    sayi = int(input(\"Bir sayı girin: \"))\n",
        "\n",
        "    if sayi == 0:  # Kullanıcı 0 girerse döngü sonlanacak\n",
        "        break\n",
        "\n",
        "    toplam += sayi\n",
        "    s += 1\n",
        "\n",
        "if s == 0:\n",
        "    print(\"Hiç sayı girişi yapmadınız!\")\n",
        "else:\n",
        "    ortalama = toplam / s  # Ortalama hesaplama\n",
        "    print(s, \" adet sayı girildi.\")\n",
        "    print(\"Toplam: \", toplam)\n",
        "    print(\"Ortalama: \", ortalama)\n",
        ""
      ],
      "metadata": {
        "colab": {
          "base_uri": "https://localhost:8080/",
          "height": 245
        },
        "id": "2WlPlHmV1Lks",
        "outputId": "b61bafaf-ab21-4310-a982-0e6981c02f65"
      },
      "execution_count": 49,
      "outputs": [
        {
          "name": "stdout",
          "output_type": "stream",
          "text": [
            "Programdan çıkmak için '0' girebilirsiniz.\n",
            "Bir sayı girin: \n"
          ]
        },
        {
          "output_type": "error",
          "ename": "ValueError",
          "evalue": "invalid literal for int() with base 10: ''",
          "traceback": [
            "\u001b[0;31m---------------------------------------------------------------------------\u001b[0m",
            "\u001b[0;31mValueError\u001b[0m                                Traceback (most recent call last)",
            "\u001b[0;32m<ipython-input-49-e82b1229b437>\u001b[0m in \u001b[0;36m<cell line: 0>\u001b[0;34m()\u001b[0m\n\u001b[1;32m      5\u001b[0m \u001b[0;34m\u001b[0m\u001b[0m\n\u001b[1;32m      6\u001b[0m \u001b[0;32mwhile\u001b[0m \u001b[0;32mTrue\u001b[0m\u001b[0;34m:\u001b[0m\u001b[0;34m\u001b[0m\u001b[0;34m\u001b[0m\u001b[0m\n\u001b[0;32m----> 7\u001b[0;31m     \u001b[0msayi\u001b[0m \u001b[0;34m=\u001b[0m \u001b[0mint\u001b[0m\u001b[0;34m(\u001b[0m\u001b[0minput\u001b[0m\u001b[0;34m(\u001b[0m\u001b[0;34m\"Bir sayı girin: \"\u001b[0m\u001b[0;34m)\u001b[0m\u001b[0;34m)\u001b[0m\u001b[0;34m\u001b[0m\u001b[0;34m\u001b[0m\u001b[0m\n\u001b[0m\u001b[1;32m      8\u001b[0m \u001b[0;34m\u001b[0m\u001b[0m\n\u001b[1;32m      9\u001b[0m     \u001b[0;32mif\u001b[0m \u001b[0msayi\u001b[0m \u001b[0;34m==\u001b[0m \u001b[0;36m0\u001b[0m\u001b[0;34m:\u001b[0m  \u001b[0;31m# Kullanıcı 0 girerse döngü sonlanacak\u001b[0m\u001b[0;34m\u001b[0m\u001b[0;34m\u001b[0m\u001b[0m\n",
            "\u001b[0;31mValueError\u001b[0m: invalid literal for int() with base 10: ''"
          ]
        }
      ]
    }
  ]
}