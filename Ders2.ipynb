{
  "nbformat": 4,
  "nbformat_minor": 0,
  "metadata": {
    "colab": {
      "provenance": []
    },
    "kernelspec": {
      "name": "python3",
      "display_name": "Python 3"
    },
    "language_info": {
      "name": "python"
    }
  },
  "cells": [
    {
      "cell_type": "code",
      "execution_count": null,
      "metadata": {
        "colab": {
          "base_uri": "https://localhost:8080/"
        },
        "id": "mdi6Dqb3I7Jm",
        "outputId": "6acb4bd5-cf8f-4dd1-84e2-c429139edf94"
      },
      "outputs": [
        {
          "output_type": "stream",
          "name": "stdout",
          "text": [
            "Merhaba python algoritma sınıfı\n"
          ]
        }
      ],
      "source": [
        "print(\"Merhaba python algoritma sınıfı\")"
      ]
    },
    {
      "cell_type": "markdown",
      "source": [
        "string bilgi türü -> metinsel ifadedir.              /\n",
        "integer(int) bilgi türü -> sayısal ifadedir."
      ],
      "metadata": {
        "id": "_29QMzg3LBRH"
      }
    },
    {
      "cell_type": "code",
      "source": [
        "import sys #import python programlama dilinde kütüphane eklemeye yarayan bir kod blogudur.\n",
        "print(sys.version)"
      ],
      "metadata": {
        "colab": {
          "base_uri": "https://localhost:8080/"
        },
        "id": "CUTcH45-MH5N",
        "outputId": "1d0d9610-b961-42d9-ddec-6338bc237104"
      },
      "execution_count": null,
      "outputs": [
        {
          "output_type": "stream",
          "name": "stdout",
          "text": [
            "3.11.11 (main, Dec  4 2024, 08:55:07) [GCC 11.4.0]\n"
          ]
        }
      ]
    },
    {
      "cell_type": "markdown",
      "source": [
        "import bilgi türü -> kütüphane ifadesidir /\n",
        "versiyon tanımı noktadan önce tanımlanır\n"
      ],
      "metadata": {
        "id": "LDEnBuMOM7q4"
      }
    },
    {
      "cell_type": "code",
      "source": [
        "from google.colab import drive\n",
        "drive.mount('/content/drive')"
      ],
      "metadata": {
        "colab": {
          "base_uri": "https://localhost:8080/"
        },
        "id": "Wr7RrnowNK5s",
        "outputId": "e75493d3-bc6a-45cf-d5d7-06b48393ddc4"
      },
      "execution_count": null,
      "outputs": [
        {
          "output_type": "stream",
          "name": "stdout",
          "text": [
            "Mounted at /content/drive\n"
          ]
        }
      ]
    },
    {
      "cell_type": "markdown",
      "source": [
        "colab sayfasını drive üzerinde bağlantı tanımıdır."
      ],
      "metadata": {
        "id": "qsdZUGMOPRUb"
      }
    },
    {
      "cell_type": "code",
      "source": [
        "import os\n",
        "os.chdir('/content/drive/My Drive/ALGORITMALAR_MYO')\n"
      ],
      "metadata": {
        "id": "hlhxsHr6Pc8r"
      },
      "execution_count": null,
      "outputs": []
    },
    {
      "cell_type": "markdown",
      "source": [
        "operaiting system sistremini \"os\" ile dahil ediliyor"
      ],
      "metadata": {
        "id": "xrnrrBMOP3F0"
      }
    }
  ]
}